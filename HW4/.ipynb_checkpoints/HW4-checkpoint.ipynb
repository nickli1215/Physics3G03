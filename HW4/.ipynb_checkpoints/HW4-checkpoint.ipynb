{
 "cells": [
  {
   "cell_type": "markdown",
   "metadata": {},
   "source": [
    "\n",
    "# Exercise 2"
   ]
  },
  {
   "cell_type": "code",
   "execution_count": 142,
   "metadata": {},
   "outputs": [],
   "source": [
    "import tensorflow as tf\n",
    "from autograd import numpy as np\n",
    "import pandas as pd\n",
    "import matplotlib.pyplot as plt\n",
    "\n",
    "from tensorflow.keras.datasets import mnist\n",
    "(train_images, train_labels), (test_images, test_labels) = mnist.load_data()"
   ]
  },
  {
   "cell_type": "code",
   "execution_count": 2,
   "metadata": {},
   "outputs": [
    {
     "name": "stdout",
     "output_type": "stream",
     "text": [
      "(784, 60000)\n",
      "(784, 10000)\n",
      "(1, 60000)\n",
      "(1, 10000)\n",
      "uint8\n",
      "uint8\n"
     ]
    }
   ],
   "source": [
    "train_labels.shape=(1,60000)\n",
    "test_labels.shape=(1,10000)\n",
    "train_images=(train_images.reshape(60000,784)).T\n",
    "test_images=(test_images.reshape(10000,784)).T\n",
    "print(train_images.shape)\n",
    "print(test_images.shape)\n",
    "print(train_labels.shape)\n",
    "print(test_labels.shape)\n",
    "print(train_images.dtype)\n",
    "print(train_labels.dtype)"
   ]
  },
  {
   "cell_type": "code",
   "execution_count": 3,
   "metadata": {},
   "outputs": [],
   "source": [
    "# compute C linear combinations of input point, one per classifier\n",
    "def model(x,w):\n",
    "    a = w[0] + np.dot(x.T,w[1:])\n",
    "    return a.T\n",
    "\n",
    "# multiclass perceptron\n",
    "def multiclass_perceptron(w,x,y,iter):\n",
    "    # get subset of points\n",
    "    x_p = x[:,iter]\n",
    "    y_p = y[:,iter]\n",
    "\n",
    "    # pre-compute predictions on all points\n",
    "    all_evals = model(x_p,w)\n",
    "\n",
    "    # compute maximum across data points\n",
    "    a =  np.max(all_evals,axis = 0)        \n",
    "\n",
    "    # compute cost in compact form using numpy broadcasting\n",
    "    b = all_evals[y_p.astype(int).flatten(),np.arange(np.size(y_p))]\n",
    "    cost = np.sum(a - b)\n",
    "\n",
    "    # return average\n",
    "    return cost/float(np.size(y_p))"
   ]
  },
  {
   "cell_type": "markdown",
   "metadata": {},
   "source": [
    "#### 2.1"
   ]
  },
  {
   "cell_type": "code",
   "execution_count": 44,
   "metadata": {},
   "outputs": [],
   "source": [
    "from autograd.misc.flatten import flatten_func\n",
    "from autograd import grad \n",
    "\n",
    "# minibatch gradient descent\n",
    "def minibatch_gradient_descent(g,w,x_train,y_train,alpha,max_its,batch_size):    \n",
    "    #Initialize weight container and cost history container\n",
    "    num_samples=np.size(y_train)\n",
    "    weight_history=[w]\n",
    "    cost_history=[g(w,x_train,y_train,range(0,num_samples,1))] #Cost is computed for entire dataset\n",
    "    \n",
    "    for k in range(max_its):\n",
    "        print('Now starting Epoch: '+str(k+1)+'/'+str(max_its))\n",
    "        for i in range(0,num_samples,batch_size):\n",
    "            g_batch = lambda w: g(w,x_train,y_train,range(i,i+batch_size,1)) \n",
    "            #Set g_batch to be gradient w.r.t current batch\n",
    "            if(i+batch_size>num_samples):\n",
    "                #If number of samples not divisible by the batch size, then for the last set subset only until final element\n",
    "                g_batch = lambda w: g(w,x_train,y_train,range(i,num_samples-1))\n",
    "            \n",
    "            gradient = grad(g_batch)\n",
    "            # evaluate the gradient\n",
    "            grad_eval = gradient(w)\n",
    "            # take gradient descent step\n",
    "            w = w - alpha*grad_eval                \n",
    "        # record weight and cost\n",
    "        weight_history.append(w)\n",
    "        cost_history.append(g(w,x_train,y_train,range(0,num_samples)))\n",
    "    return weight_history,cost_history"
   ]
  },
  {
   "cell_type": "markdown",
   "metadata": {},
   "source": [
    "#### 2.2"
   ]
  },
  {
   "cell_type": "code",
   "execution_count": 48,
   "metadata": {},
   "outputs": [],
   "source": [
    "C = np.size(np.unique(train_labels))\n",
    "N = train_images.shape[0]\n",
    "P = np.size(train_labels)\n",
    "w = 0.1*np.random.randn(N+1,C)"
   ]
  },
  {
   "cell_type": "code",
   "execution_count": 53,
   "metadata": {},
   "outputs": [
    {
     "name": "stdout",
     "output_type": "stream",
     "text": [
      "Now starting Epoch: 1/5\n",
      "Now starting Epoch: 2/5\n",
      "Now starting Epoch: 3/5\n",
      "Now starting Epoch: 4/5\n",
      "Now starting Epoch: 5/5\n"
     ]
    }
   ],
   "source": [
    "w = 0.1*np.random.randn(N+1,C)\n",
    "weight_history_200,cost_history_200 = minibatch_gradient_descent(multiclass_perceptron,w,train_images,\n",
    "                                                         train_labels,0.001,5,200)"
   ]
  },
  {
   "cell_type": "code",
   "execution_count": 54,
   "metadata": {},
   "outputs": [
    {
     "name": "stdout",
     "output_type": "stream",
     "text": [
      "Now starting Epoch: 1/5\n",
      "Now starting Epoch: 2/5\n",
      "Now starting Epoch: 3/5\n",
      "Now starting Epoch: 4/5\n",
      "Now starting Epoch: 5/5\n"
     ]
    }
   ],
   "source": [
    "weight_history_full,cost_history_full= minibatch_gradient_descent(multiclass_perceptron,w,train_images,\n",
    "                                                         train_labels,0.001,5,P)"
   ]
  },
  {
   "cell_type": "markdown",
   "metadata": {},
   "source": [
    "# Exercise 3"
   ]
  },
  {
   "cell_type": "code",
   "execution_count": 57,
   "metadata": {},
   "outputs": [],
   "source": [
    "datapath = 'Data/'"
   ]
  },
  {
   "cell_type": "code",
   "execution_count": 119,
   "metadata": {},
   "outputs": [],
   "source": [
    "def model(x,C):  \n",
    "    w = np.matmul(C.T,x)\n",
    "    return w\n",
    "def autoencoder(C):\n",
    "    decoded_x = np.matmul(C,model(x,C))\n",
    "    cost = np.sum((decoded_x-x)**2)/x.shape[1]\n",
    "    return cost"
   ]
  },
  {
   "cell_type": "code",
   "execution_count": 121,
   "metadata": {},
   "outputs": [],
   "source": [
    "def gradient_descent(g,alpha,max_its,w):\n",
    "    # compute gradient module using autograd\n",
    "    gradient = grad(g)\n",
    "\n",
    "    # run the gradient descent loop\n",
    "    weight_history = [w]     # container for weight history\n",
    "    cost_history = [g(w)]    # container for corresponding cost function history\n",
    "    for k in range(max_its):\n",
    "        # evaluate the gradient, store current weights and cost function value\n",
    "        grad_eval = gradient(w)\n",
    "\n",
    "        # take gradient descent step\n",
    "        w = w - alpha*grad_eval\n",
    "\n",
    "        # record weight and cost\n",
    "        weight_history.append(w)\n",
    "        cost_history.append(g(w))\n",
    "    return weight_history,cost_history"
   ]
  },
  {
   "cell_type": "code",
   "execution_count": 126,
   "metadata": {},
   "outputs": [],
   "source": [
    "x = np.loadtxt(datapath + '2d_span_data_centered.csv',delimiter=',')\n",
    "C = np.array([[-3.5],[3.5]])\n",
    "g = autoencoder; alpha_choice = 10**(-4); max_its = 1000; C = 0.1*np.random.randn(2,1);\n"
   ]
  },
  {
   "cell_type": "code",
   "execution_count": 127,
   "metadata": {},
   "outputs": [],
   "source": [
    "C_history,cost_history=gradient_descent(g,alpha_choice,max_its,C)"
   ]
  },
  {
   "cell_type": "code",
   "execution_count": 146,
   "metadata": {},
   "outputs": [],
   "source": [
    "best_C = C_history[np.argmin(cost_history)]\n",
    "encoded_x = model(x,best_C)\n",
    "decoded_x = np.matmul(C,encoded_x)"
   ]
  },
  {
   "cell_type": "code",
   "execution_count": 149,
   "metadata": {},
   "outputs": [
    {
     "data": {
      "text/plain": [
       "array([[ 0.64324688],\n",
       "       [-0.75929   ]])"
      ]
     },
     "execution_count": 149,
     "metadata": {},
     "output_type": "execute_result"
    }
   ],
   "source": [
    "best_C"
   ]
  },
  {
   "cell_type": "code",
   "execution_count": 152,
   "metadata": {},
   "outputs": [
    {
     "data": {
      "image/png": "[encoded data removed]",
      "text/plain": [
       "<Figure size 432x288 with 1 Axes>"
      ]
     },
     "metadata": {
      "needs_background": "light"
     },
     "output_type": "display_data"
    }
   ],
   "source": [
    "plt.scatter(x[0],x[1])\n",
    "origin = np.array([[0],[0]]) # origin point\n",
    "plt.quiver(*origin, best_C[1]*2, best_C[0]*2, color='r', scale=21)\n",
    "plt.show()"
   ]
  },
  {
   "cell_type": "code",
   "execution_count": 145,
   "metadata": {},
   "outputs": [
    {
     "data": {
      "image/png": "[encoded data removed]",
      "text/plain": [
       "<Figure size 432x288 with 1 Axes>"
      ]
     },
     "metadata": {
      "needs_background": "light"
     },
     "output_type": "display_data"
    }
   ],
   "source": [
    "\n",
    "val = 0. # this is the value where you want the data to appear on the y-axis.\n",
    "plt.plot(encoded_x, np.zeros_like(encoded_x) + val,'o',c='b')\n",
    "plt.tick_params(left=False,labelleft=False)\n",
    "plt.title('Encoded data')\n",
    "plt.show()"
   ]
  },
  {
   "cell_type": "code",
   "execution_count": 153,
   "metadata": {},
   "outputs": [
    {
     "data": {
      "image/png": "[encoded data removed]",
      "text/plain": [
       "<Figure size 432x288 with 1 Axes>"
      ]
     },
     "metadata": {
      "needs_background": "light"
     },
     "output_type": "display_data"
    }
   ],
   "source": [
    "plt.scatter(decoded_x[0],decoded_x[1])\n",
    "origin = np.array([[0],[0]]) # origin point\n",
    "plt.quiver(*origin, best_C[1]*2, best_C[0]*2, color='r', scale=21)\n",
    "plt.show()"
   ]
  },
  {
   "cell_type": "markdown",
   "metadata": {},
   "source": [
    "# Exercise 4"
   ]
  },
  {
   "cell_type": "code",
   "execution_count": 70,
   "metadata": {},
   "outputs": [],
   "source": [
    "def center(X):\n",
    "    X_means = np.mean(X,axis=1)[:,np.newaxis]\n",
    "    X_normalized = X - X_means\n",
    "\n",
    "    return X_normalized\n",
    "\n",
    "def compute_pcs(X,lam):\n",
    "    # create the correlation matrix\n",
    "    P = float(X.shape[1])\n",
    "    Cov = 1/P*np.dot(X,X.T) + lam*np.eye(X.shape[0])\n",
    "\n",
    "    # use numpy function to compute eigenvalues / vectors of correlation matrix\n",
    "    D,V = np.linalg.eigh(Cov)\n",
    "    return D,V"
   ]
  },
  {
   "cell_type": "code",
   "execution_count": 73,
   "metadata": {},
   "outputs": [],
   "source": [
    "X_original = np.loadtxt(datapath + '2d_span_data.csv',delimiter=',')\n",
    "X_centered = center(X_original)\n",
    "D,V=compute_pcs(X_centered,10e-5)"
   ]
  },
  {
   "cell_type": "code",
   "execution_count": 84,
   "metadata": {},
   "outputs": [],
   "source": [
    "import seaborn as sns\n",
    "import matplotlib.pyplot as plt\n"
   ]
  },
  {
   "cell_type": "code",
   "execution_count": 85,
   "metadata": {},
   "outputs": [
    {
     "data": {
      "text/plain": [
       "(2, 50)"
      ]
     },
     "execution_count": 85,
     "metadata": {},
     "output_type": "execute_result"
    }
   ],
   "source": [
    "X_centered.shape"
   ]
  },
  {
   "cell_type": "code",
   "execution_count": 107,
   "metadata": {},
   "outputs": [
    {
     "data": {
      "text/plain": [
       "<matplotlib.collections.PathCollection at 0x2006293ca60>"
      ]
     },
     "execution_count": 107,
     "metadata": {},
     "output_type": "execute_result"
    },
    {
     "data": {
      "image/png": "[encoded data removed]",
      "text/plain": [
       "<Figure size 432x288 with 2 Axes>"
      ]
     },
     "metadata": {
      "needs_background": "light"
     },
     "output_type": "display_data"
    }
   ],
   "source": [
    "fig,axs=plt.subplots(2,sharex=True)\n",
    "axs[0].scatter(X_centered[0],X_centered[1])\n",
    "projected = np.dot(V.T,X_centered)\n",
    "axs[1].scatter(projected[0],projected[1])"
   ]
  },
  {
   "cell_type": "code",
   "execution_count": 101,
   "metadata": {},
   "outputs": [
    {
     "data": {
      "text/plain": [
       "<matplotlib.collections.PathCollection at 0x20062311a90>"
      ]
     },
     "execution_count": 101,
     "metadata": {},
     "output_type": "execute_result"
    },
    {
     "data": {
      "image/png": "[encoded data removed]",
      "text/plain": [
       "<Figure size 432x288 with 1 Axes>"
      ]
     },
     "metadata": {
      "needs_background": "light"
     },
     "output_type": "display_data"
    }
   ],
   "source": []
  },
  {
   "cell_type": "markdown",
   "metadata": {},
   "source": [
    "# Exercise 5"
   ]
  },
  {
   "cell_type": "code",
   "execution_count": null,
   "metadata": {},
   "outputs": [],
   "source": [
    "def update_assignments(data,centroids):\n",
    "\n",
    "def update_centroids(data,old_centroids,assignments):"
   ]
  },
  {
   "cell_type": "code",
   "execution_count": null,
   "metadata": {},
   "outputs": [],
   "source": [
    "data = np.loadtxt('blobs.dat')"
   ]
  },
  {
   "cell_type": "markdown",
   "metadata": {},
   "source": [
    "# Exercise 6"
   ]
  },
  {
   "cell_type": "code",
   "execution_count": null,
   "metadata": {},
   "outputs": [],
   "source": [
    "import numpy as np\n",
    "from urllib.request import urlopen\n",
    "url = 'http://archive.ics.uci.edu/ml/machine-learning-databases/00267/data_banknote_authentication.txt'\n",
    "raw_data = urlopen(url)\n",
    "dataset = np.loadtxt(raw_data, delimiter=\",\")\n",
    "print(dataset.shape)"
   ]
  },
  {
   "cell_type": "code",
   "execution_count": null,
   "metadata": {},
   "outputs": [],
   "source": [
    "X=dataset[:,[1,3]]\n",
    "Y=dataset[:,4]\n",
    "print(X.shape)\n",
    "print(Y.shape)"
   ]
  },
  {
   "cell_type": "code",
   "execution_count": null,
   "metadata": {},
   "outputs": [],
   "source": [
    "x1list = np.linspace(np.min(X[:,0])-2, np.max(X[:,0])+2, 50) # Define 50 points on the x1-axis\n",
    "x2list = np.linspace(np.min(X[:,1])-2, np.max(X[:,1])+2, 50) # Define 50 points on the x2-axis"
   ]
  },
  {
   "cell_type": "code",
   "execution_count": null,
   "metadata": {},
   "outputs": [],
   "source": [
    "from tensorflow.keras.utils import to_categorical \n",
    "Y_c=to_categorical(Y,2)"
   ]
  }
 ],
 "metadata": {
  "kernelspec": {
   "display_name": "Python 3",
   "language": "python",
   "name": "python3"
  },
  "language_info": {
   "codemirror_mode": {
    "name": "ipython",
    "version": 3
   },
   "file_extension": ".py",
   "mimetype": "text/x-python",
   "name": "python",
   "nbconvert_exporter": "python",
   "pygments_lexer": "ipython3",
   "version": "3.8.8"
  }
 },
 "nbformat": 4,
 "nbformat_minor": 4
}
